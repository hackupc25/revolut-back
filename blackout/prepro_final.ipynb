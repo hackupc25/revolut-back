{
 "cells": [
  {
   "cell_type": "markdown",
   "id": "28ce4a54",
   "metadata": {},
   "source": [
    "# Preprocessing"
   ]
  },
  {
   "cell_type": "markdown",
   "id": "2a37c585",
   "metadata": {},
   "source": [
    "## Imports"
   ]
  },
  {
   "cell_type": "code",
   "execution_count": 26,
   "id": "f6287593",
   "metadata": {},
   "outputs": [],
   "source": [
    "import pandas as pd\n",
    "import os"
   ]
  },
  {
   "cell_type": "markdown",
   "id": "a67def99",
   "metadata": {},
   "source": [
    "## Load datasets"
   ]
  },
  {
   "cell_type": "code",
   "execution_count": 28,
   "id": "09997dfd",
   "metadata": {},
   "outputs": [],
   "source": [
    "spending_df = pd.read_csv('./datasets/spending_patterns_detailed.csv')"
   ]
  },
  {
   "cell_type": "markdown",
   "id": "adbc5250",
   "metadata": {},
   "source": [
    "## Spending patterns"
   ]
  },
  {
   "cell_type": "markdown",
   "id": "130974e0",
   "metadata": {},
   "source": [
    "### Filter the columns"
   ]
  },
  {
   "cell_type": "code",
   "execution_count": 29,
   "id": "2f4a2d59",
   "metadata": {},
   "outputs": [],
   "source": [
    "spending_df = spending_df[['Customer ID', 'Category', 'Transaction Date', 'Total Spent']]\n",
    "spending_df.rename(columns={\n",
    "    'Customer ID': 'customer',\n",
    "    'Category': 'category',\n",
    "    'Transaction Date': 'date',\n",
    "    'Total Spent': 'amount'\n",
    "}, inplace=True)"
   ]
  },
  {
   "cell_type": "markdown",
   "id": "823078ec",
   "metadata": {},
   "source": [
    "### Create categories"
   ]
  },
  {
   "cell_type": "code",
   "execution_count": 30,
   "id": "72b469a1",
   "metadata": {},
   "outputs": [],
   "source": [
    "# Función para seleccionar un único usuario por categoría\n",
    "def select_user_by_category(df):\n",
    "    \"\"\"\n",
    "    Selecciona un único usuario representativo para cada categoría.\n",
    "    \"\"\"\n",
    "    user_categories = {}\n",
    "\n",
    "    # Tacaño: Usuario con el gasto total más bajo\n",
    "    thrifty_user = df.groupby('customer').sum().sort_values('amount').head(1).index[0]\n",
    "    user_categories['miserly'] = df[df['customer'] == thrifty_user]\n",
    "\n",
    "    # Estudiante: Usuario con mayor proporción de gastos en 'Groceries' y 'Food'\n",
    "    student_user = (\n",
    "        df[df['category'].isin(['Groceries', 'Food'])]\n",
    "        .groupby('customer').sum()\n",
    "        .sort_values('amount', ascending=False)\n",
    "        .head(1).index[0]\n",
    "    )\n",
    "    user_categories['student'] = df[df['customer'] == student_user]\n",
    "\n",
    "    # Derrochador: Usuario con el gasto total más alto\n",
    "    big_spender = df.groupby('customer').sum().sort_values('amount', ascending=False).head(1).index[0]\n",
    "    user_categories['wasteful'] = df[df['customer'] == big_spender]\n",
    "\n",
    "    # Familiar: Usuario con mayor proporción de gastos en 'Housing and Utilities' y 'Groceries'\n",
    "    family_user = (\n",
    "        df[df['category'].isin(['Housing and Utilities', 'Groceries'])]\n",
    "        .groupby('customer').sum()\n",
    "        .sort_values('amount', ascending=False)\n",
    "        .head(1).index[0]\n",
    "    )\n",
    "    user_categories['familiar'] = df[df['customer'] == family_user]\n",
    "\n",
    "    # Aventurero: Usuario con mayor proporción de gastos en 'Travel' y 'Hobbies'\n",
    "    adventurous_user = (\n",
    "        df[df['category'].isin(['Travel', 'Hobbies'])]\n",
    "        .groupby('customer').sum()\n",
    "        .sort_values('amount', ascending=False)\n",
    "        .head(1).index[0]\n",
    "    )\n",
    "    user_categories['adventurous'] = df[df['customer'] == adventurous_user]\n",
    "\n",
    "    return user_categories"
   ]
  },
  {
   "cell_type": "markdown",
   "id": "7cdd9438",
   "metadata": {},
   "source": [
    "### Saving the final datasets"
   ]
  },
  {
   "cell_type": "code",
   "execution_count": 31,
   "id": "09f5a6f1",
   "metadata": {},
   "outputs": [],
   "source": [
    "user_categories = select_user_by_category(spending_df)\n",
    "\n",
    "output_dir = './datasets/users'\n",
    "os.makedirs(output_dir, exist_ok=True)\n",
    "\n",
    "for category, data in user_categories.items():\n",
    "    data.to_csv(f'{output_dir}/{category.lower()}.csv', index=False)"
   ]
  }
 ],
 "metadata": {
  "kernelspec": {
   "display_name": "Python 3",
   "language": "python",
   "name": "python3"
  },
  "language_info": {
   "codemirror_mode": {
    "name": "ipython",
    "version": 3
   },
   "file_extension": ".py",
   "mimetype": "text/x-python",
   "name": "python",
   "nbconvert_exporter": "python",
   "pygments_lexer": "ipython3",
   "version": "3.10.12"
  }
 },
 "nbformat": 4,
 "nbformat_minor": 5
}
