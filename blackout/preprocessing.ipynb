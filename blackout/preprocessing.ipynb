{
 "cells": [
  {
   "cell_type": "markdown",
   "id": "28ce4a54",
   "metadata": {},
   "source": [
    "# Preprocessing"
   ]
  },
  {
   "cell_type": "markdown",
   "id": "2a37c585",
   "metadata": {},
   "source": [
    "## Imports"
   ]
  },
  {
   "cell_type": "code",
   "execution_count": null,
   "id": "f6287593",
   "metadata": {},
   "outputs": [],
   "source": [
    "import pandas as pd"
   ]
  },
  {
   "cell_type": "markdown",
   "id": "a67def99",
   "metadata": {},
   "source": [
    "## Load datasets and filter the columns"
   ]
  },
  {
   "cell_type": "code",
   "execution_count": 27,
   "id": "a41b5ce3",
   "metadata": {},
   "outputs": [],
   "source": [
    "df = pd.read_csv('./datasets/SalesForCourse_quizz_table.csv')\n",
    "columns = ['Date', 'Product Category', 'Cost', 'has_balcony']\n",
    "\n",
    "df2 = pd.read_csv('./datasets/spending_patterns_detailed.csv')\n",
    "columns2 = ['Customer ID', 'Category', 'Transaction Date', 'Total Spent']\n",
    "df2 = df2[columns2]"
   ]
  },
  {
   "cell_type": "markdown",
   "id": "cae2b57b",
   "metadata": {},
   "source": [
    "## Categories information"
   ]
  },
  {
   "cell_type": "code",
   "execution_count": 28,
   "id": "68720091",
   "metadata": {},
   "outputs": [
    {
     "name": "stdout",
     "output_type": "stream",
     "text": [
      "['Groceries' 'Friend Activities' 'Housing and Utilities' 'Fitness' 'Gifts'\n",
      " 'Transportation' 'Travel' 'Personal Hygiene' 'Hobbies' 'Shopping'\n",
      " 'Medical/Dental' 'Food' 'Subscriptions']\n"
     ]
    }
   ],
   "source": [
    "print(df2['Category'].unique())"
   ]
  },
  {
   "cell_type": "markdown",
   "id": "817f85f9",
   "metadata": {},
   "source": [
    "## Imputing null values"
   ]
  },
  {
   "cell_type": "code",
   "execution_count": 29,
   "id": "1e78b624",
   "metadata": {},
   "outputs": [
    {
     "data": {
      "text/plain": [
       "Customer ID         0.0\n",
       "Category            0.0\n",
       "Transaction Date    0.0\n",
       "Total Spent         0.0\n",
       "dtype: float64"
      ]
     },
     "metadata": {},
     "output_type": "display_data"
    }
   ],
   "source": [
    "nulls = df2.isnull().mean() * 100\n",
    "display(nulls.sort_values(ascending=False))"
   ]
  },
  {
   "cell_type": "markdown",
   "id": "f882c8f5",
   "metadata": {},
   "source": [
    "As there are no nulls, there is no need to impute the values."
   ]
  },
  {
   "cell_type": "markdown",
   "id": "7cdd9438",
   "metadata": {},
   "source": [
    "## Saving the final datasets"
   ]
  },
  {
   "cell_type": "code",
   "execution_count": 30,
   "id": "09f5a6f1",
   "metadata": {},
   "outputs": [],
   "source": [
    "unique_users = df2['Customer ID'].unique()\n",
    "\n",
    "df2.rename(columns={\n",
    "    'Customer ID': 'customer',\n",
    "    'Category': 'category',\n",
    "    'Transaction Date': 'date',\n",
    "    'Total Spent': 'amount'\n",
    "}, inplace=True)\n",
    "\n",
    "for i, user in enumerate(unique_users[:5], start=1):\n",
    "    user_data = df2[df2['customer'] == user]\n",
    "    user_data.to_csv(f'./datasets/users/user{i}.csv', index=False)"
   ]
  }
 ],
 "metadata": {
  "kernelspec": {
   "display_name": "Python 3",
   "language": "python",
   "name": "python3"
  },
  "language_info": {
   "codemirror_mode": {
    "name": "ipython",
    "version": 3
   },
   "file_extension": ".py",
   "mimetype": "text/x-python",
   "name": "python",
   "nbconvert_exporter": "python",
   "pygments_lexer": "ipython3",
   "version": "3.10.12"
  }
 },
 "nbformat": 4,
 "nbformat_minor": 5
}
